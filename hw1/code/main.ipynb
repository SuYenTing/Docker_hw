{
 "cells": [
  {
   "cell_type": "markdown",
   "id": "incident-diesel",
   "metadata": {},
   "source": [
    "# Python連線MongoDB簡單操作程式碼範例\n",
    "\n",
    "* 日期： 2021.01.29\n",
    "* 整理： 蘇彥庭\n",
    "* 參考資料：\n",
    "    * [w3schools-Python MongoDB](https://www.w3schools.com/python/python_mongodb_getstarted.asp)\n",
    "    * [pymongo套件官方手冊](https://pymongo.readthedocs.io/en/stable/tutorial.html#)"
   ]
  },
  {
   "cell_type": "code",
   "execution_count": null,
   "id": "exposed-moment",
   "metadata": {},
   "outputs": [],
   "source": [
    "# 讀取套件\n",
    "from pymongo import MongoClient"
   ]
  },
  {
   "cell_type": "markdown",
   "id": "brutal-disabled",
   "metadata": {},
   "source": [
    "## 建立連線"
   ]
  },
  {
   "cell_type": "code",
   "execution_count": null,
   "id": "ancient-fountain",
   "metadata": {},
   "outputs": [],
   "source": [
    "# 連線相關設定\n",
    "host = 'mongo'\n",
    "port = '27017'\n",
    "user = 'user1'\n",
    "passwd = 'user1pw'\n",
    "dbName = 'world'"
   ]
  },
  {
   "cell_type": "code",
   "execution_count": null,
   "id": "bulgarian-placement",
   "metadata": {},
   "outputs": [],
   "source": [
    "# 建立mongoDB連線\n",
    "client = MongoClient('mongodb://' + user + ':' + passwd + '@' + host + ':' + port + '/' + dbName)"
   ]
  },
  {
   "cell_type": "code",
   "execution_count": null,
   "id": "animated-blood",
   "metadata": {},
   "outputs": [],
   "source": [
    "# 連入資料庫\n",
    "db = client['world']\n",
    "collection = db['people']"
   ]
  },
  {
   "cell_type": "markdown",
   "id": "elegant-laundry",
   "metadata": {},
   "source": [
    "## Insert(新增)"
   ]
  },
  {
   "cell_type": "code",
   "execution_count": null,
   "id": "instrumental-villa",
   "metadata": {},
   "outputs": [],
   "source": [
    "# # 匯入資料(單筆匯入寫法)\n",
    "# for i in range(100):\n",
    "#     doc = {\"age\": i, \"name\": \"user_\" + str(i)}\n",
    "#     collection.insert_one(doc)"
   ]
  },
  {
   "cell_type": "code",
   "execution_count": null,
   "id": "flush-highlight",
   "metadata": {},
   "outputs": [],
   "source": [
    "# 匯入資料(多筆匯入寫法)\n",
    "docs = list()\n",
    "for i in range(100):\n",
    "    docs.append({\"age\": i, \"name\": \"user_\" + str(i)})\n",
    "collection.insert_many(docs)"
   ]
  },
  {
   "cell_type": "code",
   "execution_count": null,
   "id": "powerful-shock",
   "metadata": {},
   "outputs": [],
   "source": [
    "# 查詢資料表總資料數\n",
    "collection.estimated_document_count()"
   ]
  },
  {
   "cell_type": "markdown",
   "id": "atlantic-bedroom",
   "metadata": {},
   "source": [
    "## Select(查詢)"
   ]
  },
  {
   "cell_type": "code",
   "execution_count": null,
   "id": "distinct-probability",
   "metadata": {},
   "outputs": [],
   "source": [
    "# 查詢資料\n",
    "docs = collection.find({\"age\": {\"$gt\":95}})\n",
    "for doc in docs:\n",
    "    print(doc)"
   ]
  },
  {
   "cell_type": "markdown",
   "id": "objective-lightweight",
   "metadata": {},
   "source": [
    "## Update(修改)"
   ]
  },
  {
   "cell_type": "code",
   "execution_count": null,
   "id": "latest-bobby",
   "metadata": {},
   "outputs": [],
   "source": [
    "# 修改資料\n",
    "targetDocs = {\"age\": 0}\n",
    "newValues = {\"$set\": {\"age\": 100}}\n",
    "result = collection.update_many(targetDocs, newValues)\n",
    "print(result.modified_count, \" documents updated.\")"
   ]
  },
  {
   "cell_type": "code",
   "execution_count": null,
   "id": "frank-vinyl",
   "metadata": {},
   "outputs": [],
   "source": [
    "# 確認是否有修改成功\n",
    "docs = collection.find({\"age\": 100})\n",
    "for doc in docs:\n",
    "    print(doc)"
   ]
  },
  {
   "cell_type": "markdown",
   "id": "jewish-edition",
   "metadata": {},
   "source": [
    "## Delete(刪除)"
   ]
  },
  {
   "cell_type": "code",
   "execution_count": null,
   "id": "stainless-zoning",
   "metadata": {},
   "outputs": [],
   "source": [
    "# 刪除指定資料\n",
    "collection.delete_many({\"age\":{\"$gt\":95}})"
   ]
  },
  {
   "cell_type": "code",
   "execution_count": null,
   "id": "bridal-renewal",
   "metadata": {},
   "outputs": [],
   "source": [
    "# 確認是否有刪除\n",
    "collection.count_documents({\"age\":{\"$gt\":95}})"
   ]
  },
  {
   "cell_type": "code",
   "execution_count": null,
   "id": "tight-litigation",
   "metadata": {},
   "outputs": [],
   "source": [
    "# 刪除所有資料\n",
    "collection.drop()"
   ]
  },
  {
   "cell_type": "code",
   "execution_count": null,
   "id": "elect-basket",
   "metadata": {},
   "outputs": [],
   "source": [
    "# 確認是否有刪除\n",
    "collection.estimated_document_count()"
   ]
  }
 ],
 "metadata": {
  "kernelspec": {
   "display_name": "Python 3",
   "language": "python",
   "name": "python3"
  },
  "language_info": {
   "codemirror_mode": {
    "name": "ipython",
    "version": 3
   },
   "file_extension": ".py",
   "mimetype": "text/x-python",
   "name": "python",
   "nbconvert_exporter": "python",
   "pygments_lexer": "ipython3",
   "version": "3.8.6"
  }
 },
 "nbformat": 4,
 "nbformat_minor": 5
}
